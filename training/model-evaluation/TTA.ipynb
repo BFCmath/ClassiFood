{
 "cells": [
  {
   "cell_type": "code",
   "execution_count": null,
   "metadata": {},
   "outputs": [],
   "source": [
    "import torch\n",
    "import torchvision.transforms as T\n",
    "from tqdm import tqdm\n",
    "\n",
    "# Define TTA transforms using functional operations\n",
    "tta_transforms = [\n",
    "    lambda x: x,  # Original\n",
    "    lambda x: T.functional.hflip(x),  # Horizontal flip\n",
    "    lambda x: T.functional.vflip(x),  # Vertical flip\n",
    "    lambda x: T.functional.vflip(T.functional.hflip(x)),  # Both flips\n",
    "    lambda x: T.functional.rotate(x, 90),  # 90 degrees\n",
    "    lambda x: T.functional.rotate(x, 180),  # 180 degrees\n",
    "    lambda x: T.functional.rotate(x, 270),  # 270 degrees\n",
    "    lambda x: T.functional.rotate(T.functional.hflip(x), 90)  # Horizontal flip + 90 degrees\n",
    "]\n",
    "\n",
    "def test_evaluate_tta8(model, fold, test_loader, device, verbose=1):\n",
    "    model.eval()\n",
    "    preds = []\n",
    "    with torch.no_grad():\n",
    "        if verbose == 1:\n",
    "            progress_bar = tqdm(enumerate(test_loader), total=len(test_loader))\n",
    "        else:\n",
    "            progress_bar = enumerate(test_loader)\n",
    "            \n",
    "        for batch_idx, (data, target) in progress_bar:\n",
    "            data, target = data.to(device), target.to(device)\n",
    "            \n",
    "            # Apply TTA and get predictions\n",
    "            batch_preds = []\n",
    "            for transform in tta_transforms:\n",
    "                augmented_data = transform(data)\n",
    "                outputs = model(augmented_data)\n",
    "                batch_preds.append(torch.softmax(outputs, dim=1))\n",
    "                \n",
    "            # Average predictions from all augmentations\n",
    "            avg_preds = torch.stack(batch_preds).mean(dim=0)\n",
    "            preds.append(avg_preds)\n",
    "            \n",
    "    preds = torch.vstack(preds)\n",
    "    return preds"
   ]
  }
 ],
 "metadata": {
  "kernelspec": {
   "display_name": "base",
   "language": "python",
   "name": "python3"
  },
  "language_info": {
   "name": "python",
   "version": "3.11.9"
  }
 },
 "nbformat": 4,
 "nbformat_minor": 2
}
