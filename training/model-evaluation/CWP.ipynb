{
 "cells": [
  {
   "cell_type": "code",
   "execution_count": null,
   "metadata": {},
   "outputs": [],
   "source": [
    "model_confidences = [pred.max(dim=1).values.mean() for pred in preds_list]\n",
    "weights = torch.tensor(model_confidences)\n",
    "weights = weights / weights.sum()\n",
    "weighted_preds = torch.stack([pred * w for pred, w in zip(preds_list, weights)]).sum(dim=0)\n",
    "save_soft_predictions_to_dataframe(weighted_preds, label_encoder, f\"{SAVE_OUTPUT_DIR}/test_{model_name}.csv\")\n",
    "final_preds = torch.argmax(weighted_preds, dim=1).cpu().numpy()\n",
    "evaluate(df_test.num_label, final_preds, \"Test\")"
   ]
  }
 ],
 "metadata": {
  "kernelspec": {
   "display_name": "base",
   "language": "python",
   "name": "python3"
  },
  "language_info": {
   "name": "python",
   "version": "3.11.9"
  }
 },
 "nbformat": 4,
 "nbformat_minor": 2
}
